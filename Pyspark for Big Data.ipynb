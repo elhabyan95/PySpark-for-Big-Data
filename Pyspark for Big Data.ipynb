{
 "cells": [
  {
   "cell_type": "markdown",
   "metadata": {
    "id": "fa486f23"
   },
   "source": [
    "![image.png](attachment:image.png)"
   ]
  },
  {
   "cell_type": "code",
   "execution_count": 193,
   "metadata": {
    "id": "p_UKtCeG1Mp2"
   },
   "outputs": [],
   "source": [
    "# !apt-get install openjdk-8-jdk-headless -qq > /dev/null\n",
    "# !wget -q http://archive.apache.org/dist/spark/spark-3.0.1/spark-3.0.1-bin-hadoop2.7.tgz\n",
    "# !tar xf spark-3.0.1-bin-hadoop2.7.tgz\n",
    "\n",
    "# !pip install -q findspark\n",
    "# import os\n",
    "# os.environ[\"JAVA_HOME\"] = \"/usr/lib/jvm/java-8-openjdk-amd64\"\n",
    "# os.environ[\"SPARK_HOME\"] = \"/content/spark-3.0.1-bin-hadoop2.7\"\n",
    "# !pip install findspark \n",
    "\n",
    "# !pip install pyspark\n",
    "\n",
    "# import findspark\n",
    "# findspark.init()\n",
    "\n",
    "# import pyspark"
   ]
  },
  {
   "cell_type": "code",
   "execution_count": 194,
   "metadata": {
    "id": "Tfou3w5A1pO0"
   },
   "outputs": [],
   "source": [
    "import findspark\n",
    "findspark.init()\n",
    "import pyspark\n",
    "from pyspark.sql import SparkSession\n",
    "\n",
    "from pyspark.sql.functions import udf\n",
    "from pyspark.sql.types import *\n",
    "from pyspark.sql import functions as F\n"
   ]
  },
  {
   "cell_type": "markdown",
   "metadata": {
    "id": "0eb78c16"
   },
   "source": [
    "### Data:\n",
    "- Data is provided in csv format in a file named <b>healthcare-dataset-stroke-data.csv</b>"
   ]
  },
  {
   "cell_type": "markdown",
   "metadata": {
    "id": "7c842b79"
   },
   "source": [
    "### Column names and data types are as follow:\n",
    "- id, integer.\n",
    "- gender, string.\n",
    "- age, double.\n",
    "- hypertension, integer.\n",
    "- heart_disease, integer.\n",
    "- ever_married, string.\n",
    "- work_type, string.\n",
    "- Residence_type, string.\n",
    "- avg_glucose_level, double.\n",
    "- bmi, double.\n",
    "- smoking_status, string.\n",
    "- stroke, integer <b>(Target Label)</b>.\n",
    "If the person has stroke the stroke label value is <b>\"1\"</b> otherwise <b>\"0\"</b>."
   ]
  },
  {
   "cell_type": "markdown",
   "metadata": {
    "id": "6971f788"
   },
   "source": [
    "## To perform this task follow the following guiding steps:"
   ]
  },
  {
   "cell_type": "markdown",
   "metadata": {
    "id": "e31bc851"
   },
   "source": [
    "### Create a spark session and import the required libraries"
   ]
  },
  {
   "cell_type": "code",
   "execution_count": 195,
   "metadata": {
    "id": "ab3ba311"
   },
   "outputs": [],
   "source": [
    "spark = SparkSession.builder.getOrCreate()"
   ]
  },
  {
   "cell_type": "code",
   "execution_count": 196,
   "metadata": {
    "colab": {
     "base_uri": "https://localhost:8080/"
    },
    "id": "RCvHUgMl3i4f",
    "outputId": "2bb3da21-23e3-434d-93c6-cc0c3f58a433"
   },
   "outputs": [
    {
     "name": "stdout",
     "output_type": "stream",
     "text": [
      "+-----+------+----+------------+-------------+------------+-------------+--------------+-----------------+----+---------------+------+\n",
      "|   id|gender| age|hypertension|heart_disease|ever_married|    work_type|Residence_type|avg_glucose_level| bmi| smoking_status|stroke|\n",
      "+-----+------+----+------------+-------------+------------+-------------+--------------+-----------------+----+---------------+------+\n",
      "| 9046|  Male|67.0|         0.0|          1.0|         Yes|      Private|         Urban|           228.69|36.6|formerly smoked|   1.0|\n",
      "|51676|Female|61.0|         0.0|          0.0|         Yes|Self-employed|         Rural|           202.21|null|   never smoked|   1.0|\n",
      "|31112|  Male|80.0|         0.0|          1.0|         Yes|      Private|         Rural|           105.92|32.5|   never smoked|   1.0|\n",
      "|60182|Female|49.0|         0.0|          0.0|         Yes|      Private|         Urban|           171.23|34.4|         smokes|   1.0|\n",
      "| 1665|Female|79.0|         1.0|          0.0|         Yes|Self-employed|         Rural|           174.12|24.0|   never smoked|   1.0|\n",
      "+-----+------+----+------------+-------------+------------+-------------+--------------+-----------------+----+---------------+------+\n",
      "only showing top 5 rows\n",
      "\n"
     ]
    }
   ],
   "source": [
    "df.show(5)"
   ]
  },
  {
   "cell_type": "markdown",
   "metadata": {
    "id": "843b8468"
   },
   "source": [
    "### Create a data schema programatically"
   ]
  },
  {
   "cell_type": "code",
   "execution_count": 197,
   "metadata": {
    "id": "8616fe16"
   },
   "outputs": [],
   "source": [
    "from pyspark.sql.types import *\n",
    "schema = StructType([StructField(\"id\", IntegerType(), False),\n",
    "                     StructField(\"gender\", StringType(), False),\n",
    "                     StructField(\"age\", DoubleType(), False),\n",
    "                      StructField(\"hypertension\", DoubleType(), False),\n",
    "                      StructField(\"heart_disease\", DoubleType(), False),\n",
    "                      StructField(\"ever_married\", StringType(), False),\n",
    "                      StructField(\"work_type\", StringType(), False),\n",
    "                      StructField(\"Residence_type\", StringType(), False),\n",
    "                      StructField(\"avg_glucose_level\", DoubleType(), False),\n",
    "                      StructField(\"bmi\", DoubleType(), False),\n",
    "                      StructField(\"smoking_status\", StringType(), False),\n",
    "                      StructField(\"stroke\", DoubleType(), False)\n",
    "                     ])"
   ]
  },
  {
   "cell_type": "markdown",
   "metadata": {
    "id": "2d00718f"
   },
   "source": [
    "### Read the data using the standard DataReader (Key,Value) pairs format\n",
    "- Provide the schema and any other required options."
   ]
  },
  {
   "cell_type": "code",
   "execution_count": 198,
   "metadata": {
    "id": "61fcc4cd"
   },
   "outputs": [],
   "source": [
    "df = spark.read.csv('healthcare-dataset-stroke-data.csv' , header=True , schema=schema)\n"
   ]
  },
  {
   "cell_type": "markdown",
   "metadata": {
    "id": "974bc193"
   },
   "source": [
    "### Explore the data \n",
    "#### You have to do the following:\n",
    "- Print the Schema.\n",
    "- Show the first 10 rows from the data.\n",
    "- Explore null values and show how many null values in each column.\n",
    "- Plot a count plot for the target label and <b>notice the graph</b>.\n",
    "- Perform any additional EDA you find useful."
   ]
  },
  {
   "cell_type": "code",
   "execution_count": 199,
   "metadata": {
    "colab": {
     "base_uri": "https://localhost:8080/"
    },
    "id": "353b6f34",
    "outputId": "ee53c9b2-d425-45b5-e183-5120d1c93168"
   },
   "outputs": [
    {
     "name": "stdout",
     "output_type": "stream",
     "text": [
      "root\n",
      " |-- id: integer (nullable = true)\n",
      " |-- gender: string (nullable = true)\n",
      " |-- age: double (nullable = true)\n",
      " |-- hypertension: double (nullable = true)\n",
      " |-- heart_disease: double (nullable = true)\n",
      " |-- ever_married: string (nullable = true)\n",
      " |-- work_type: string (nullable = true)\n",
      " |-- Residence_type: string (nullable = true)\n",
      " |-- avg_glucose_level: double (nullable = true)\n",
      " |-- bmi: double (nullable = true)\n",
      " |-- smoking_status: string (nullable = true)\n",
      " |-- stroke: double (nullable = true)\n",
      "\n"
     ]
    }
   ],
   "source": [
    "df.printSchema()"
   ]
  },
  {
   "cell_type": "code",
   "execution_count": 200,
   "metadata": {
    "colab": {
     "base_uri": "https://localhost:8080/"
    },
    "id": "kQgw0T4_4wdc",
    "outputId": "681bbf77-421f-49f9-88a2-e1ddc825ad2b"
   },
   "outputs": [
    {
     "name": "stdout",
     "output_type": "stream",
     "text": [
      "+-----+------+----+------------+-------------+------------+-------------+--------------+-----------------+----+---------------+------+\n",
      "|   id|gender| age|hypertension|heart_disease|ever_married|    work_type|Residence_type|avg_glucose_level| bmi| smoking_status|stroke|\n",
      "+-----+------+----+------------+-------------+------------+-------------+--------------+-----------------+----+---------------+------+\n",
      "| 9046|  Male|67.0|         0.0|          1.0|         Yes|      Private|         Urban|           228.69|36.6|formerly smoked|   1.0|\n",
      "|51676|Female|61.0|         0.0|          0.0|         Yes|Self-employed|         Rural|           202.21|null|   never smoked|   1.0|\n",
      "|31112|  Male|80.0|         0.0|          1.0|         Yes|      Private|         Rural|           105.92|32.5|   never smoked|   1.0|\n",
      "|60182|Female|49.0|         0.0|          0.0|         Yes|      Private|         Urban|           171.23|34.4|         smokes|   1.0|\n",
      "| 1665|Female|79.0|         1.0|          0.0|         Yes|Self-employed|         Rural|           174.12|24.0|   never smoked|   1.0|\n",
      "|56669|  Male|81.0|         0.0|          0.0|         Yes|      Private|         Urban|           186.21|29.0|formerly smoked|   1.0|\n",
      "|53882|  Male|74.0|         1.0|          1.0|         Yes|      Private|         Rural|            70.09|27.4|   never smoked|   1.0|\n",
      "|10434|Female|69.0|         0.0|          0.0|          No|      Private|         Urban|            94.39|22.8|   never smoked|   1.0|\n",
      "|27419|Female|59.0|         0.0|          0.0|         Yes|      Private|         Rural|            76.15|null|        Unknown|   1.0|\n",
      "|60491|Female|78.0|         0.0|          0.0|         Yes|      Private|         Urban|            58.57|24.2|        Unknown|   1.0|\n",
      "+-----+------+----+------------+-------------+------------+-------------+--------------+-----------------+----+---------------+------+\n",
      "only showing top 10 rows\n",
      "\n"
     ]
    }
   ],
   "source": [
    "df.show(10)"
   ]
  },
  {
   "cell_type": "code",
   "execution_count": 201,
   "metadata": {
    "colab": {
     "base_uri": "https://localhost:8080/"
    },
    "id": "a7qIu0Rw4wiD",
    "outputId": "d17975a4-114a-4c1a-d8c9-10546b425c8f"
   },
   "outputs": [
    {
     "name": "stdout",
     "output_type": "stream",
     "text": [
      "+---+------+---+------------+-------------+------------+---------+--------------+-----------------+---+--------------+------+\n",
      "| id|gender|age|hypertension|heart_disease|ever_married|work_type|Residence_type|avg_glucose_level|bmi|smoking_status|stroke|\n",
      "+---+------+---+------------+-------------+------------+---------+--------------+-----------------+---+--------------+------+\n",
      "|  0|     0|  0|           0|            0|           0|        0|             0|                0|201|             0|     0|\n",
      "+---+------+---+------------+-------------+------------+---------+--------------+-----------------+---+--------------+------+\n",
      "\n"
     ]
    }
   ],
   "source": [
    "from pyspark.sql.functions import col,isnan, when, count\n",
    "df.select([count(when(isnan(c) | col(c).isNull(), c)).alias(c) for c in df.columns]\n",
    "   ).show()"
   ]
  },
  {
   "cell_type": "code",
   "execution_count": 202,
   "metadata": {
    "colab": {
     "base_uri": "https://localhost:8080/",
     "height": 643
    },
    "id": "PzorCe7C4-ju",
    "outputId": "7874718a-55a2-4266-b4da-9399c7859f8f"
   },
   "outputs": [
    {
     "name": "stdout",
     "output_type": "stream",
     "text": [
      "5110\n"
     ]
    },
    {
     "data": {
      "text/plain": [
       "<matplotlib.axes._subplots.AxesSubplot at 0x7f94cd1d4910>"
      ]
     },
     "execution_count": 202,
     "metadata": {},
     "output_type": "execute_result"
    },
    {
     "data": {
      "image/png": "[encoded data removed]",
      "text/plain": [
       "<Figure size 864x720 with 1 Axes>"
      ]
     },
     "metadata": {
      "needs_background": "light"
     },
     "output_type": "display_data"
    }
   ],
   "source": [
    "import matplotlib.pyplot as plt\n",
    "import seaborn as sns\n",
    "%matplotlib inline\n",
    "pandasDF = df.toPandas()\n",
    "print(len(pandasDF))\n",
    "plt.figure(figsize=(12,10))\n",
    "sns.countplot(x='stroke', data=pandasDF, order=pandasDF['stroke'].value_counts().index)"
   ]
  },
  {
   "cell_type": "markdown",
   "metadata": {
    "id": "59b770cb"
   },
   "source": [
    "### Get the summary statistics of the age column\n",
    "- You will find the minimum age is about <b>0.08</b>.\n",
    "- Remove rows for the age below <b>2 years old</b>."
   ]
  },
  {
   "cell_type": "code",
   "execution_count": 203,
   "metadata": {
    "colab": {
     "base_uri": "https://localhost:8080/"
    },
    "id": "1TAnB_tg7EBV",
    "outputId": "4ab5b877-018a-4b1e-b83c-e5c575ee3a63"
   },
   "outputs": [
    {
     "name": "stdout",
     "output_type": "stream",
     "text": [
      "+-------+------------------+\n",
      "|summary|               age|\n",
      "+-------+------------------+\n",
      "|  count|              5110|\n",
      "|   mean|43.226614481409015|\n",
      "| stddev| 22.61264672311348|\n",
      "|    min|              0.08|\n",
      "|    max|              82.0|\n",
      "+-------+------------------+\n",
      "\n"
     ]
    }
   ],
   "source": [
    "df.select('age').describe().show()"
   ]
  },
  {
   "cell_type": "code",
   "execution_count": 204,
   "metadata": {
    "colab": {
     "base_uri": "https://localhost:8080/"
    },
    "id": "dqMwXeaZ7mhF",
    "outputId": "8e5ab3f7-d265-4253-d0eb-9bb889ecdaea"
   },
   "outputs": [
    {
     "name": "stdout",
     "output_type": "stream",
     "text": [
      "+-----+------+----+------------+-------------+------------+-------------+--------------+-----------------+----+---------------+------+\n",
      "|   id|gender| age|hypertension|heart_disease|ever_married|    work_type|Residence_type|avg_glucose_level| bmi| smoking_status|stroke|\n",
      "+-----+------+----+------------+-------------+------------+-------------+--------------+-----------------+----+---------------+------+\n",
      "| 9046|  Male|67.0|         0.0|          1.0|         Yes|      Private|         Urban|           228.69|36.6|formerly smoked|   1.0|\n",
      "|51676|Female|61.0|         0.0|          0.0|         Yes|Self-employed|         Rural|           202.21|null|   never smoked|   1.0|\n",
      "|31112|  Male|80.0|         0.0|          1.0|         Yes|      Private|         Rural|           105.92|32.5|   never smoked|   1.0|\n",
      "|60182|Female|49.0|         0.0|          0.0|         Yes|      Private|         Urban|           171.23|34.4|         smokes|   1.0|\n",
      "| 1665|Female|79.0|         1.0|          0.0|         Yes|Self-employed|         Rural|           174.12|24.0|   never smoked|   1.0|\n",
      "|56669|  Male|81.0|         0.0|          0.0|         Yes|      Private|         Urban|           186.21|29.0|formerly smoked|   1.0|\n",
      "|53882|  Male|74.0|         1.0|          1.0|         Yes|      Private|         Rural|            70.09|27.4|   never smoked|   1.0|\n",
      "|10434|Female|69.0|         0.0|          0.0|          No|      Private|         Urban|            94.39|22.8|   never smoked|   1.0|\n",
      "|27419|Female|59.0|         0.0|          0.0|         Yes|      Private|         Rural|            76.15|null|        Unknown|   1.0|\n",
      "|60491|Female|78.0|         0.0|          0.0|         Yes|      Private|         Urban|            58.57|24.2|        Unknown|   1.0|\n",
      "|12109|Female|81.0|         1.0|          0.0|         Yes|      Private|         Rural|            80.43|29.7|   never smoked|   1.0|\n",
      "|12095|Female|61.0|         0.0|          1.0|         Yes|     Govt_job|         Rural|           120.46|36.8|         smokes|   1.0|\n",
      "|12175|Female|54.0|         0.0|          0.0|         Yes|      Private|         Urban|           104.51|27.3|         smokes|   1.0|\n",
      "| 8213|  Male|78.0|         0.0|          1.0|         Yes|      Private|         Urban|           219.84|null|        Unknown|   1.0|\n",
      "| 5317|Female|79.0|         0.0|          1.0|         Yes|      Private|         Urban|           214.09|28.2|   never smoked|   1.0|\n",
      "|58202|Female|50.0|         1.0|          0.0|         Yes|Self-employed|         Rural|           167.41|30.9|   never smoked|   1.0|\n",
      "|56112|  Male|64.0|         0.0|          1.0|         Yes|      Private|         Urban|           191.61|37.5|         smokes|   1.0|\n",
      "|34120|  Male|75.0|         1.0|          0.0|         Yes|      Private|         Urban|           221.29|25.8|         smokes|   1.0|\n",
      "|27458|Female|60.0|         0.0|          0.0|          No|      Private|         Urban|            89.22|37.8|   never smoked|   1.0|\n",
      "|25226|  Male|57.0|         0.0|          1.0|          No|     Govt_job|         Urban|           217.08|null|        Unknown|   1.0|\n",
      "+-----+------+----+------------+-------------+------------+-------------+--------------+-----------------+----+---------------+------+\n",
      "only showing top 20 rows\n",
      "\n"
     ]
    }
   ],
   "source": [
    "df_filtered=df.filter(df.age>2)\n",
    "df_filtered.show()"
   ]
  },
  {
   "cell_type": "markdown",
   "metadata": {
    "id": "bf8c9498"
   },
   "source": [
    "### Working with gender & smoking_status columns:\n",
    "- Select and show the gender & smoking_status columns\n",
    "- Get the distinct values for each column."
   ]
  },
  {
   "cell_type": "code",
   "execution_count": 205,
   "metadata": {
    "colab": {
     "base_uri": "https://localhost:8080/"
    },
    "id": "wWZRRJ1K79tF",
    "outputId": "6e4d1135-a455-41c9-dfad-4ac51fac8005"
   },
   "outputs": [
    {
     "name": "stdout",
     "output_type": "stream",
     "text": [
      "+------+---------------+\n",
      "|gender| smoking_status|\n",
      "+------+---------------+\n",
      "|  Male|formerly smoked|\n",
      "|Female|   never smoked|\n",
      "|  Male|   never smoked|\n",
      "|Female|         smokes|\n",
      "|Female|   never smoked|\n",
      "|  Male|formerly smoked|\n",
      "|  Male|   never smoked|\n",
      "|Female|   never smoked|\n",
      "|Female|        Unknown|\n",
      "|Female|        Unknown|\n",
      "|Female|   never smoked|\n",
      "|Female|         smokes|\n",
      "|Female|         smokes|\n",
      "|  Male|        Unknown|\n",
      "|Female|   never smoked|\n",
      "|Female|   never smoked|\n",
      "|  Male|         smokes|\n",
      "|  Male|         smokes|\n",
      "|Female|   never smoked|\n",
      "|  Male|        Unknown|\n",
      "+------+---------------+\n",
      "only showing top 20 rows\n",
      "\n"
     ]
    }
   ],
   "source": [
    "df_filtered.select('gender','smoking_status').show()"
   ]
  },
  {
   "cell_type": "code",
   "execution_count": 206,
   "metadata": {
    "colab": {
     "base_uri": "https://localhost:8080/"
    },
    "id": "uI0JOs8S8t7l",
    "outputId": "cf74af79-ec11-49be-868f-c2d49acb966b"
   },
   "outputs": [
    {
     "name": "stdout",
     "output_type": "stream",
     "text": [
      "+------+\n",
      "|gender|\n",
      "+------+\n",
      "|Female|\n",
      "| Other|\n",
      "|  Male|\n",
      "+------+\n",
      "\n"
     ]
    }
   ],
   "source": [
    "df_filtered.select('gender').distinct().show()"
   ]
  },
  {
   "cell_type": "code",
   "execution_count": 207,
   "metadata": {
    "colab": {
     "base_uri": "https://localhost:8080/"
    },
    "id": "A6iyQDY08tSd",
    "outputId": "a634f878-2e5f-44a6-e752-74e0c1c93a33"
   },
   "outputs": [
    {
     "name": "stdout",
     "output_type": "stream",
     "text": [
      "+---------------+\n",
      "| smoking_status|\n",
      "+---------------+\n",
      "|         smokes|\n",
      "|        Unknown|\n",
      "|   never smoked|\n",
      "|formerly smoked|\n",
      "+---------------+\n",
      "\n"
     ]
    }
   ],
   "source": [
    "df_filtered.select('smoking_status').distinct().show()"
   ]
  },
  {
   "cell_type": "markdown",
   "metadata": {
    "id": "850bdfe1"
   },
   "source": [
    "#### Change the string values of the columns into numerical values as follow:\n",
    "1. Gender column:\n",
    "    * Male = 1 \n",
    "    * Female = 0 \n",
    "    * Other = 0 \n",
    "2. Smoking Status column:\n",
    "  * never smoked = 0\n",
    "  * Unknown = 0.5\n",
    "  * formerly smoked = 0.75\n",
    "  * smokes = 1.0\n"
   ]
  },
  {
   "cell_type": "code",
   "execution_count": 208,
   "metadata": {
    "id": "355f2ef0"
   },
   "outputs": [],
   "source": [
    "convert_map1 = {'Male':1 , 'Female':0 , 'Other':0 } \n",
    "convert_map2 = {'never smoked':0 , 'Unknown':0.5 ,'formerly smoked':0.75  ,'smokes' :1 } \n"
   ]
  },
  {
   "cell_type": "code",
   "execution_count": 209,
   "metadata": {
    "id": "tabeVWzA-hNW"
   },
   "outputs": [],
   "source": [
    "def impute_title1(title):\n",
    "    return convert_map1[title]\n",
    "impute_convertUDF1= udf(lambda x: impute_title(x))\n",
    "\n",
    "def impute_title2(title):\n",
    "    return convert_map2[title]\n",
    "impute_convertUDF2= udf(lambda x: impute_title(x))\n",
    "\n"
   ]
  },
  {
   "cell_type": "code",
   "execution_count": 210,
   "metadata": {
    "id": "1iQu5agE-hTl"
   },
   "outputs": [],
   "source": [
    "new_combined = df_filtered.withColumn('Gender',impute_convertUDF1(F.col('gender')))\n",
    "df_new = new_combined.withColumn('Smoking_status',impute_convertUDF2(F.col('smoking_status')))\n",
    "\n"
   ]
  },
  {
   "cell_type": "markdown",
   "metadata": {
    "id": "3da38a31"
   },
   "source": [
    "#### Show the output DataFrame\n",
    "- Select and show the gender & smoking_status columns after value changing.\n",
    "- Print schema for the new dataframe."
   ]
  },
  {
   "cell_type": "code",
   "execution_count": 211,
   "metadata": {
    "colab": {
     "base_uri": "https://localhost:8080/"
    },
    "id": "7df0cf29",
    "outputId": "0e92e428-2ae5-40ae-e85d-13c8bf490fbe"
   },
   "outputs": [
    {
     "name": "stdout",
     "output_type": "stream",
     "text": [
      "+------+--------------+\n",
      "|Gender|Smoking_status|\n",
      "+------+--------------+\n",
      "|     1|          0.75|\n",
      "|     0|             0|\n",
      "|     1|             0|\n",
      "|     0|             1|\n",
      "|     0|             0|\n",
      "|     1|          0.75|\n",
      "|     1|             0|\n",
      "|     0|             0|\n",
      "|     0|           0.5|\n",
      "|     0|           0.5|\n",
      "|     0|             0|\n",
      "|     0|             1|\n",
      "|     0|             1|\n",
      "|     1|           0.5|\n",
      "|     0|             0|\n",
      "|     0|             0|\n",
      "|     1|             1|\n",
      "|     1|             1|\n",
      "|     0|             0|\n",
      "|     1|           0.5|\n",
      "+------+--------------+\n",
      "only showing top 20 rows\n",
      "\n"
     ]
    }
   ],
   "source": [
    "df_new.select('Gender','Smoking_status').show()"
   ]
  },
  {
   "cell_type": "code",
   "execution_count": 212,
   "metadata": {
    "colab": {
     "base_uri": "https://localhost:8080/"
    },
    "id": "UpwTCSK3EC9n",
    "outputId": "2b48fbcf-cc40-4de9-b50f-a86779c0614f"
   },
   "outputs": [
    {
     "name": "stdout",
     "output_type": "stream",
     "text": [
      "root\n",
      " |-- id: integer (nullable = true)\n",
      " |-- Gender: string (nullable = true)\n",
      " |-- age: double (nullable = true)\n",
      " |-- hypertension: double (nullable = true)\n",
      " |-- heart_disease: double (nullable = true)\n",
      " |-- ever_married: string (nullable = true)\n",
      " |-- work_type: string (nullable = true)\n",
      " |-- Residence_type: string (nullable = true)\n",
      " |-- avg_glucose_level: double (nullable = true)\n",
      " |-- bmi: double (nullable = true)\n",
      " |-- Smoking_status: string (nullable = true)\n",
      " |-- stroke: double (nullable = true)\n",
      "\n"
     ]
    }
   ],
   "source": [
    "df_new.printSchema()"
   ]
  },
  {
   "cell_type": "code",
   "execution_count": 213,
   "metadata": {
    "id": "kJQDHk30ETR2"
   },
   "outputs": [],
   "source": [
    "new = df_new.withColumn(\"Gender\",col(\"Gender\").cast(\"integer\"))\n",
    "new_df = new.withColumn(\"Smoking_status\",col(\"Smoking_status\").cast(\"Double\"))\n"
   ]
  },
  {
   "cell_type": "code",
   "execution_count": 214,
   "metadata": {
    "colab": {
     "base_uri": "https://localhost:8080/"
    },
    "id": "N3SRL8iHGAYH",
    "outputId": "2c5e1742-d11b-4ee1-bd4f-a0b95e775787"
   },
   "outputs": [
    {
     "name": "stdout",
     "output_type": "stream",
     "text": [
      "root\n",
      " |-- id: integer (nullable = true)\n",
      " |-- Gender: integer (nullable = true)\n",
      " |-- age: double (nullable = true)\n",
      " |-- hypertension: double (nullable = true)\n",
      " |-- heart_disease: double (nullable = true)\n",
      " |-- ever_married: string (nullable = true)\n",
      " |-- work_type: string (nullable = true)\n",
      " |-- Residence_type: string (nullable = true)\n",
      " |-- avg_glucose_level: double (nullable = true)\n",
      " |-- bmi: double (nullable = true)\n",
      " |-- Smoking_status: double (nullable = true)\n",
      " |-- stroke: double (nullable = true)\n",
      "\n"
     ]
    }
   ],
   "source": [
    "new_df.printSchema()"
   ]
  },
  {
   "cell_type": "markdown",
   "metadata": {
    "id": "89ce3b77"
   },
   "source": [
    "### Deal with null value according to your data analysis."
   ]
  },
  {
   "cell_type": "code",
   "execution_count": 215,
   "metadata": {
    "colab": {
     "base_uri": "https://localhost:8080/"
    },
    "id": "4d78cb87",
    "outputId": "06d34788-8f84-4d7f-f6cd-2c28f6e14722"
   },
   "outputs": [
    {
     "name": "stdout",
     "output_type": "stream",
     "text": [
      "29.257489451476793\n"
     ]
    }
   ],
   "source": [
    "mean_bmi = new_df.select(F.mean(col('bmi')).alias('mean')).collect()\n",
    "mean = mean_bmi[0]['mean']\n",
    "print(mean)"
   ]
  },
  {
   "cell_type": "code",
   "execution_count": 216,
   "metadata": {
    "id": "KhbGoI3VGjGB"
   },
   "outputs": [],
   "source": [
    "final_df = new_df.na.fill(value = mean , subset='bmi')"
   ]
  },
  {
   "cell_type": "code",
   "execution_count": 217,
   "metadata": {
    "colab": {
     "base_uri": "https://localhost:8080/"
    },
    "id": "ilKBmwgFG7Lo",
    "outputId": "81dd80ec-6358-450a-c387-c80d512c716c"
   },
   "outputs": [
    {
     "name": "stdout",
     "output_type": "stream",
     "text": [
      "+---+------+---+------------+-------------+------------+---------+--------------+-----------------+---+--------------+------+\n",
      "| id|gender|age|hypertension|heart_disease|ever_married|work_type|Residence_type|avg_glucose_level|bmi|smoking_status|stroke|\n",
      "+---+------+---+------------+-------------+------------+---------+--------------+-----------------+---+--------------+------+\n",
      "|  0|     0|  0|           0|            0|           0|        0|             0|                0|  0|             0|     0|\n",
      "+---+------+---+------------+-------------+------------+---------+--------------+-----------------+---+--------------+------+\n",
      "\n"
     ]
    }
   ],
   "source": [
    "final_df.select([count(when(isnan(c) | col(c).isNull(), c)).alias(c) for c in df.columns]\n",
    "   ).show()"
   ]
  },
  {
   "cell_type": "markdown",
   "metadata": {
    "id": "053c429a"
   },
   "source": [
    "### Split the data into training and test dataframes:\n",
    "- 80% training and 20% test.\n",
    "- seed = 42.\n",
    "- Save each dataframe as a parquet file"
   ]
  },
  {
   "cell_type": "code",
   "execution_count": 218,
   "metadata": {
    "colab": {
     "base_uri": "https://localhost:8080/"
    },
    "id": "0236ea8b",
    "outputId": "60b05815-df3b-42a5-9889-3fcb550aa9ca"
   },
   "outputs": [
    {
     "name": "stdout",
     "output_type": "stream",
     "text": [
      "There are 3991 rows in the training set, and 944 in the test set\n"
     ]
    }
   ],
   "source": [
    "trainDF, testDF = final_df.randomSplit([.8,.2],seed=42)\n",
    "print(f\"There are {trainDF.count()} rows in the training set, and {testDF.count()} in the test set\")"
   ]
  },
  {
   "cell_type": "code",
   "execution_count": 219,
   "metadata": {
    "id": "rQXpB1JZHVyG"
   },
   "outputs": [],
   "source": [
    "trainDF.write.parquet(\"output/train1.parquet\")\n",
    "testDF.write.parquet(\"output/test1.parquet\")"
   ]
  },
  {
   "cell_type": "markdown",
   "metadata": {
    "id": "78fa24da"
   },
   "source": [
    "### Read the saved Train and Test DataFrame:\n",
    "- Use the dataframes you read in the subsequent steps."
   ]
  },
  {
   "cell_type": "code",
   "execution_count": 220,
   "metadata": {
    "id": "c3f5c1e3"
   },
   "outputs": [],
   "source": [
    "train_DF=spark.read.parquet(\"output/train1.parquet\")\n",
    "test_DF=spark.read.parquet(\"output/test1.parquet\")"
   ]
  },
  {
   "cell_type": "code",
   "execution_count": 221,
   "metadata": {
    "colab": {
     "base_uri": "https://localhost:8080/"
    },
    "id": "9OrCd1voI1i3",
    "outputId": "fbee91bf-78d0-4e61-898b-85db1799c068"
   },
   "outputs": [
    {
     "name": "stdout",
     "output_type": "stream",
     "text": [
      "+---+------+----+------------+-------------+------------+---------+--------------+-----------------+------------------+--------------+------+\n",
      "| id|Gender| age|hypertension|heart_disease|ever_married|work_type|Residence_type|avg_glucose_level|               bmi|Smoking_status|stroke|\n",
      "+---+------+----+------------+-------------+------------+---------+--------------+-----------------+------------------+--------------+------+\n",
      "| 67|     0|17.0|         0.0|          0.0|          No|  Private|         Urban|            92.97|29.257489451476793|          0.75|   0.0|\n",
      "| 77|     0|13.0|         0.0|          0.0|          No| children|         Rural|            85.81|              18.6|           0.5|   0.0|\n",
      "| 91|     0|42.0|         0.0|          0.0|          No|  Private|         Urban|            98.53|              18.5|           0.0|   0.0|\n",
      "| 99|     0|31.0|         0.0|          0.0|          No|  Private|         Urban|           108.89|              52.3|           0.5|   0.0|\n",
      "|121|     0|38.0|         0.0|          0.0|         Yes|  Private|         Urban|            91.44|29.257489451476793|           0.5|   0.0|\n",
      "+---+------+----+------------+-------------+------------+---------+--------------+-----------------+------------------+--------------+------+\n",
      "only showing top 5 rows\n",
      "\n"
     ]
    }
   ],
   "source": [
    "train_DF.show(5)"
   ]
  },
  {
   "cell_type": "code",
   "execution_count": 222,
   "metadata": {
    "colab": {
     "base_uri": "https://localhost:8080/"
    },
    "id": "mygLlA_qI-7A",
    "outputId": "4374383a-9875-410b-dac4-a8b48cdb883d"
   },
   "outputs": [
    {
     "name": "stdout",
     "output_type": "stream",
     "text": [
      "+---+------+----+------------+-------------+------------+---------+--------------+-----------------+----+--------------+------+\n",
      "| id|Gender| age|hypertension|heart_disease|ever_married|work_type|Residence_type|avg_glucose_level| bmi|Smoking_status|stroke|\n",
      "+---+------+----+------------+-------------+------------+---------+--------------+-----------------+----+--------------+------+\n",
      "| 84|     1|55.0|         0.0|          0.0|         Yes|  Private|         Urban|            89.17|31.5|           0.0|   0.0|\n",
      "|129|     0|24.0|         0.0|          0.0|          No|  Private|         Urban|            97.55|26.2|           0.0|   0.0|\n",
      "|156|     0|33.0|         0.0|          0.0|         Yes|  Private|         Rural|            86.97|42.2|           0.0|   0.0|\n",
      "|205|     0|43.0|         0.0|          0.0|         Yes|  Private|         Rural|            88.23|37.6|           0.5|   0.0|\n",
      "|259|     1|79.0|         0.0|          0.0|         Yes|  Private|         Urban|           198.79|24.9|           0.0|   0.0|\n",
      "+---+------+----+------------+-------------+------------+---------+--------------+-----------------+----+--------------+------+\n",
      "only showing top 5 rows\n",
      "\n"
     ]
    }
   ],
   "source": [
    "test_DF.show(5)"
   ]
  },
  {
   "cell_type": "markdown",
   "metadata": {
    "id": "987b4b40"
   },
   "source": [
    "### Create the model:\n",
    "- Perform feature engineering steps.\n",
    "- Create the logistic regression classifier.\n",
    "- Build the pipeline model that uses all feature engineering steps and the model.\n",
    "- Train the pipeline model using the trainig dataset."
   ]
  },
  {
   "cell_type": "code",
   "execution_count": 223,
   "metadata": {
    "id": "3278e362"
   },
   "outputs": [],
   "source": [
    "from pyspark.ml import Pipeline\n",
    "from pyspark.ml.feature import VectorAssembler\n",
    "from pyspark.ml.feature import StringIndexer, OneHotEncoder\n",
    "from pyspark.ml.classification import LogisticRegression\n",
    "\n"
   ]
  },
  {
   "cell_type": "code",
   "execution_count": 224,
   "metadata": {
    "colab": {
     "base_uri": "https://localhost:8080/"
    },
    "id": "4e41b352",
    "outputId": "8d87ede7-db0e-4a86-d297-92b156142b86"
   },
   "outputs": [
    {
     "data": {
      "text/plain": [
       "DataFrame[id: int, gender: string, age: double, hypertension: double, heart_disease: double, ever_married: string, work_type: string, Residence_type: string, avg_glucose_level: double, bmi: double, smoking_status: string, stroke: double]"
      ]
     },
     "execution_count": 224,
     "metadata": {},
     "output_type": "execute_result"
    }
   ],
   "source": [
    "df.drop(\"firstname\")"
   ]
  },
  {
   "cell_type": "code",
   "execution_count": 225,
   "metadata": {
    "id": "106453d7"
   },
   "outputs": [],
   "source": [
    "categoricalCols = [field for (field,dataType) in train_DF.dtypes \n",
    "                   if dataType == 'string']\n",
    "indexOutputCols = [x + \"_Index\" for x in categoricalCols]\n",
    "\n",
    "oheOutputCols = [x + \"_OHE\" for x in categoricalCols]\n",
    "\n",
    "stringIndexer = StringIndexer(inputCols=categoricalCols,\n",
    "                             outputCols=indexOutputCols,\n",
    "                             handleInvalid='skip')\n",
    "oheEncoder = OneHotEncoder(inputCols=indexOutputCols,\n",
    "                          outputCols=oheOutputCols)\n",
    "\n",
    "numericCols = [field for (field,dataType) in final_df.dtypes\n",
    "              if ((dataType=='double' or dataType =='integer')& (field!='stroke'))]\n",
    "\n",
    "assemblerInputs = oheOutputCols + numericCols\n",
    "\n",
    "vecAssembler = VectorAssembler(inputCols=assemblerInputs,outputCol='features')\n",
    "\n"
   ]
  },
  {
   "cell_type": "code",
   "execution_count": 226,
   "metadata": {
    "id": "8Zx2QX0EKnrh"
   },
   "outputs": [],
   "source": [
    "lr = LogisticRegression(labelCol=\"stroke\", featuresCol='features')\n",
    "\n",
    "pipeline =Pipeline(stages = [stringIndexer,oheEncoder,vecAssembler,lr])"
   ]
  },
  {
   "cell_type": "code",
   "execution_count": 227,
   "metadata": {
    "id": "x2yCo6s3K3MH"
   },
   "outputs": [],
   "source": [
    "pipelineModel = pipeline.fit(train_DF)\n",
    "predDF = pipelineModel.transform(test_DF)\n"
   ]
  },
  {
   "cell_type": "markdown",
   "metadata": {
    "id": "a05c2677"
   },
   "source": [
    "### Perform predictions on tests dataframe:\n",
    "- Test the model using the test dataframe\n",
    "- Select and show the feature column.\n",
    "- Print the schema of the output dataframe.\n",
    "- Select and show both prediction and label columns.\n",
    "- Explore the results for the label column stroke=1. i.e. select both columns (prediction,stroke) for stroke=1.<b>notice the result.</b> \n",
    "- Count the predicted 1 and 0 values.<b>notice the result.</b>   "
   ]
  },
  {
   "cell_type": "code",
   "execution_count": 228,
   "metadata": {
    "colab": {
     "base_uri": "https://localhost:8080/"
    },
    "id": "aPmbDc7jNHgH",
    "outputId": "9033112b-37fe-4267-e498-f44e71269522"
   },
   "outputs": [
    {
     "data": {
      "text/plain": [
       "DataFrame[features: vector, stroke: double, prediction: double]"
      ]
     },
     "execution_count": 228,
     "metadata": {},
     "output_type": "execute_result"
    }
   ],
   "source": [
    "predDF.select('features','stroke','prediction')"
   ]
  },
  {
   "cell_type": "code",
   "execution_count": 229,
   "metadata": {
    "colab": {
     "base_uri": "https://localhost:8080/"
    },
    "id": "DUTAMPqwNHpm",
    "outputId": "5e2f778e-84dc-48ad-ad0b-33bb9ec98701"
   },
   "outputs": [
    {
     "name": "stdout",
     "output_type": "stream",
     "text": [
      "+---------------------------------------------------------------------+\n",
      "|features                                                             |\n",
      "+---------------------------------------------------------------------+\n",
      "|(12,[0,1,5,6,9,10],[1.0,1.0,1.0,55.0,89.17,31.5])                    |\n",
      "|(12,[1,5,6,9,10],[1.0,1.0,24.0,97.55,26.2])                          |\n",
      "|(12,[0,1,6,9,10],[1.0,1.0,33.0,86.97,42.2])                          |\n",
      "|(12,[0,1,6,9,10,11],[1.0,1.0,43.0,88.23,37.6,0.5])                   |\n",
      "|(12,[0,1,5,6,9,10],[1.0,1.0,1.0,79.0,198.79,24.9])                   |\n",
      "|(12,[0,1,6,9,10],[1.0,1.0,43.0,110.32,28.4])                         |\n",
      "|(12,[0,2,6,7,9,10],[1.0,1.0,78.0,1.0,75.19,27.6])                    |\n",
      "|(12,[0,2,5,6,9,10],[1.0,1.0,1.0,74.0,74.96,26.6])                    |\n",
      "|(12,[4,6,9,10,11],[1.0,14.0,92.22,22.8,0.5])                         |\n",
      "|(12,[0,1,6,9,10,11],[1.0,1.0,69.0,101.52,26.8,1.0])                  |\n",
      "|(12,[0,3,6,9,10,11],[1.0,1.0,52.0,87.26,40.1,1.0])                   |\n",
      "|[0.0,1.0,0.0,0.0,0.0,0.0,82.0,1.0,1.0,84.03,26.5,0.75]               |\n",
      "|(12,[1,6,9,10],[1.0,17.0,81.77,44.7])                                |\n",
      "|(12,[0,2,6,9,10,11],[1.0,1.0,73.0,79.69,29.257489451476793,0.75])    |\n",
      "|(12,[0,1,6,7,9,10],[1.0,1.0,59.0,1.0,99.06,23.4])                    |\n",
      "|[1.0,0.0,0.0,1.0,0.0,1.0,60.0,0.0,0.0,80.86,31.0,1.0]                |\n",
      "|(12,[1,5,6,9,10],[1.0,1.0,14.0,83.42,28.7])                          |\n",
      "|[1.0,1.0,0.0,0.0,0.0,1.0,69.0,1.0,0.0,229.21,30.1,1.0]               |\n",
      "|[1.0,0.0,0.0,1.0,0.0,1.0,70.0,0.0,0.0,202.55,29.257489451476793,0.75]|\n",
      "|(12,[1,5,6,9,10],[1.0,1.0,29.0,71.89,27.6])                          |\n",
      "+---------------------------------------------------------------------+\n",
      "only showing top 20 rows\n",
      "\n"
     ]
    }
   ],
   "source": [
    "predDF.select('features').show(truncate=False)"
   ]
  },
  {
   "cell_type": "code",
   "execution_count": 230,
   "metadata": {
    "colab": {
     "base_uri": "https://localhost:8080/"
    },
    "id": "1gBj4oYANHvG",
    "outputId": "3c8dec56-70d4-4990-ffbc-f9c0865a1abb"
   },
   "outputs": [
    {
     "name": "stdout",
     "output_type": "stream",
     "text": [
      "root\n",
      " |-- id: integer (nullable = true)\n",
      " |-- Gender: integer (nullable = true)\n",
      " |-- age: double (nullable = true)\n",
      " |-- hypertension: double (nullable = true)\n",
      " |-- heart_disease: double (nullable = true)\n",
      " |-- ever_married: string (nullable = true)\n",
      " |-- work_type: string (nullable = true)\n",
      " |-- Residence_type: string (nullable = true)\n",
      " |-- avg_glucose_level: double (nullable = true)\n",
      " |-- bmi: double (nullable = true)\n",
      " |-- Smoking_status: double (nullable = true)\n",
      " |-- stroke: double (nullable = true)\n",
      " |-- ever_married_Index: double (nullable = false)\n",
      " |-- work_type_Index: double (nullable = false)\n",
      " |-- Residence_type_Index: double (nullable = false)\n",
      " |-- ever_married_OHE: vector (nullable = true)\n",
      " |-- work_type_OHE: vector (nullable = true)\n",
      " |-- Residence_type_OHE: vector (nullable = true)\n",
      " |-- features: vector (nullable = true)\n",
      " |-- rawPrediction: vector (nullable = true)\n",
      " |-- probability: vector (nullable = true)\n",
      " |-- prediction: double (nullable = false)\n",
      "\n"
     ]
    }
   ],
   "source": [
    "predDF.printSchema()"
   ]
  },
  {
   "cell_type": "code",
   "execution_count": 231,
   "metadata": {
    "colab": {
     "base_uri": "https://localhost:8080/"
    },
    "id": "0pauZJi9OE2i",
    "outputId": "2b2bd85b-2922-4cfb-fc14-2fbbc3f580f4"
   },
   "outputs": [
    {
     "name": "stdout",
     "output_type": "stream",
     "text": [
      "+------+----------+\n",
      "|stroke|prediction|\n",
      "+------+----------+\n",
      "|   0.0|       0.0|\n",
      "|   0.0|       0.0|\n",
      "|   0.0|       0.0|\n",
      "|   0.0|       0.0|\n",
      "|   0.0|       0.0|\n",
      "|   0.0|       0.0|\n",
      "|   0.0|       0.0|\n",
      "|   1.0|       0.0|\n",
      "|   0.0|       0.0|\n",
      "|   0.0|       0.0|\n",
      "+------+----------+\n",
      "only showing top 10 rows\n",
      "\n"
     ]
    }
   ],
   "source": [
    "predDF.select('stroke','prediction').show(10)"
   ]
  },
  {
   "cell_type": "code",
   "execution_count": 232,
   "metadata": {
    "colab": {
     "base_uri": "https://localhost:8080/"
    },
    "id": "d772bef6",
    "outputId": "be34e83b-ccae-4953-bba3-4d5ff3661b1c"
   },
   "outputs": [
    {
     "name": "stdout",
     "output_type": "stream",
     "text": [
      "+------+----------+\n",
      "|stroke|prediction|\n",
      "+------+----------+\n",
      "|   1.0|       0.0|\n",
      "|   1.0|       0.0|\n",
      "|   1.0|       0.0|\n",
      "|   1.0|       0.0|\n",
      "|   1.0|       0.0|\n",
      "|   1.0|       0.0|\n",
      "|   1.0|       0.0|\n",
      "|   1.0|       0.0|\n",
      "|   1.0|       0.0|\n",
      "|   1.0|       0.0|\n",
      "|   1.0|       0.0|\n",
      "|   1.0|       0.0|\n",
      "|   1.0|       0.0|\n",
      "|   1.0|       0.0|\n",
      "|   1.0|       0.0|\n",
      "|   1.0|       0.0|\n",
      "|   1.0|       0.0|\n",
      "|   1.0|       0.0|\n",
      "|   1.0|       0.0|\n",
      "|   1.0|       0.0|\n",
      "+------+----------+\n",
      "only showing top 20 rows\n",
      "\n"
     ]
    }
   ],
   "source": [
    "predDF.select('stroke','prediction').filter('stroke==1').show()"
   ]
  },
  {
   "cell_type": "code",
   "execution_count": 233,
   "metadata": {
    "colab": {
     "base_uri": "https://localhost:8080/"
    },
    "id": "Hjx8AuNwNGfQ",
    "outputId": "749e9761-c691-463f-9dd7-4ee683edd1e2"
   },
   "outputs": [
    {
     "name": "stdout",
     "output_type": "stream",
     "text": [
      "+----------+-----+\n",
      "|prediction|count|\n",
      "+----------+-----+\n",
      "|       0.0|  944|\n",
      "+----------+-----+\n",
      "\n"
     ]
    }
   ],
   "source": [
    "predDF.groupby('prediction').count().show()"
   ]
  },
  {
   "cell_type": "code",
   "execution_count": 233,
   "metadata": {
    "id": "480d892e",
    "scrolled": false
   },
   "outputs": [],
   "source": []
  },
  {
   "cell_type": "markdown",
   "metadata": {
    "id": "daec120f"
   },
   "source": [
    "### Evaluate the model performance\n",
    "- Use <b>BinaryClassificationEvaluator</b>. This will calculate the <b>ROC</b>.\n",
    "- Set the parameters as follow:\n",
    "    - <b>rawPredictionCol='prediction'</b> and <b>labelCol='stroke'</b>"
   ]
  },
  {
   "cell_type": "code",
   "execution_count": 234,
   "metadata": {
    "id": "a7b5ad25"
   },
   "outputs": [],
   "source": [
    "from pyspark.ml.evaluation import BinaryClassificationEvaluator"
   ]
  },
  {
   "cell_type": "code",
   "execution_count": 235,
   "metadata": {
    "id": "44d3a1e6"
   },
   "outputs": [],
   "source": [
    "evaluatorROC = BinaryClassificationEvaluator(rawPredictionCol='prediction'\n",
    "                                             ,labelCol='stroke')"
   ]
  },
  {
   "cell_type": "code",
   "execution_count": 236,
   "metadata": {
    "colab": {
     "base_uri": "https://localhost:8080/"
    },
    "id": "3adbe41f",
    "outputId": "4bcef244-2300-48b7-c89d-189fd27a621f"
   },
   "outputs": [
    {
     "data": {
      "text/plain": [
       "0.5"
      ]
     },
     "execution_count": 236,
     "metadata": {},
     "output_type": "execute_result"
    }
   ],
   "source": [
    "evaluatorROC.evaluate(predDF)"
   ]
  },
  {
   "cell_type": "code",
   "execution_count": 237,
   "metadata": {
    "colab": {
     "base_uri": "https://localhost:8080/"
    },
    "id": "dEtPe0DRQyWo",
    "outputId": "547bea08-2a82-4079-81d5-6696d0111889"
   },
   "outputs": [
    {
     "name": "stdout",
     "output_type": "stream",
     "text": [
      "+------+-----+\n",
      "|stroke|count|\n",
      "+------+-----+\n",
      "|   0.0| 4687|\n",
      "|   1.0|  248|\n",
      "+------+-----+\n",
      "\n"
     ]
    }
   ],
   "source": [
    "final_df.groupby('stroke').count().show()"
   ]
  },
  {
   "cell_type": "code",
   "execution_count": 237,
   "metadata": {
    "id": "xyZWeS6ZQyci"
   },
   "outputs": [],
   "source": []
  },
  {
   "cell_type": "markdown",
   "metadata": {
    "id": "40206589"
   },
   "source": [
    "### Improve Model Performance\n",
    "- You may noticed that <b>the target label is imbalanced</b>.\n",
    "- LogisticRegression classifier has a special parameter <b>weightCol</b> to deal with imbalanced class.\n",
    "- In order to use this parameter you must have a <b>weightCol</b> in your training dataframe.\n",
    "- In order to create this column you will need to define a <b>UDF</b> and apply it to the target label column.\n",
    "- Create a LogisticRegression classifier with <b>weightCol</b> parameter.\n",
    "- Build and train a pipeline model with the new LogisticRegression.\n",
    "- Perform the prediction on the test dataframe. \n",
    "- Select and show both prediction and label columns.\n",
    "- Explore the results for the label column stroke=1. i.e. select both columns (prediction,stroke) for stroke=1.<b>notice the result.</b> \n",
    "- Count the predicted 1 and 0 values.<b>notice the result.</b>   \n",
    "- Evaluate the model performance exactly as in the previous step.\n",
    "### YOU SHOULD OBTAIN  ROC > 0.65\n",
    "<BR>\n",
    "<b><font color='red'>Note: feel free to deal with the imbalanced cluster with the above method or another. However, you can only use methods applied on SPARK DATAFRAME</font></b>"
   ]
  },
  {
   "cell_type": "code",
   "execution_count": 238,
   "metadata": {
    "id": "9BlAdwBFTTKR"
   },
   "outputs": [],
   "source": [
    "from pyspark.sql.functions import when\n",
    "ratio = 0.95\n",
    "\n",
    "def balance(labels):\n",
    "    return when(labels == 1, ratio).otherwise(1*(1-ratio))\n",
    "\n",
    "\n",
    "last_train= train_DF.withColumn('new_weights', balance(col('stroke')))"
   ]
  },
  {
   "cell_type": "code",
   "execution_count": 239,
   "metadata": {
    "id": "72h-xgvETTwY"
   },
   "outputs": [],
   "source": [
    "lr1 = LogisticRegression(labelCol=\"stroke\", featuresCol='features',weightCol='new_weights')\n",
    "pipeline1 =Pipeline(stages = [stringIndexer,oheEncoder,vecAssembler,lr1])\n",
    "\n",
    "pipelineModel = pipeline1.fit(last_train)\n",
    "\n",
    "predDF_final = pipelineModel.transform(test_DF)\n",
    "\n",
    "evaluatorROC = BinaryClassificationEvaluator(rawPredictionCol='prediction'\n",
    "                                             ,labelCol='stroke')\n"
   ]
  },
  {
   "cell_type": "code",
   "execution_count": 240,
   "metadata": {
    "colab": {
     "base_uri": "https://localhost:8080/"
    },
    "id": "My09-hGpWqJM",
    "outputId": "f1d3a5f8-e2fc-4250-f41f-a70cef3f68ef"
   },
   "outputs": [
    {
     "data": {
      "text/plain": [
       "0.7553336166595834"
      ]
     },
     "execution_count": 240,
     "metadata": {},
     "output_type": "execute_result"
    }
   ],
   "source": [
    "evaluatorROC.evaluate(predDF_final)"
   ]
  },
  {
   "cell_type": "markdown",
   "metadata": {
    "id": "e00e7b53"
   },
   "source": [
    "# GOOD LUCK\n",
    "<b><font color='GREEN'>AI-PRO Spark Team ITI</font></b>"
   ]
  },
  {
   "cell_type": "markdown",
   "metadata": {
    "id": "0e065922"
   },
   "source": [
    "![image-3.png](attachment:image-3.png)"
   ]
  }
 ],
 "metadata": {
  "colab": {
   "name": "Sherif Mohamed Elhabyan_4_ Final Exam.ipynb",
   "provenance": []
  },
  "kernelspec": {
   "display_name": "Python 3",
   "language": "python",
   "name": "python3"
  },
  "language_info": {
   "codemirror_mode": {
    "name": "ipython",
    "version": 3
   },
   "file_extension": ".py",
   "mimetype": "text/x-python",
   "name": "python",
   "nbconvert_exporter": "python",
   "pygments_lexer": "ipython3",
   "version": "3.8.5"
  }
 },
 "nbformat": 4,
 "nbformat_minor": 5
}
